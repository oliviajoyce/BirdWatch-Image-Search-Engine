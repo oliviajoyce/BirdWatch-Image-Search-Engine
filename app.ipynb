{
 "cells": [
  {
   "cell_type": "markdown",
   "id": "05893c8a",
   "metadata": {},
   "source": [
    "# Packages"
   ]
  },
  {
   "cell_type": "code",
   "execution_count": 122,
   "id": "07005604",
   "metadata": {},
   "outputs": [],
   "source": [
    "import math\n",
    "from flask import Flask, render_template, request, redirect, url_for\n",
    "import json\n",
    "import os\n",
    "import re\n",
    "from nltk.stem import PorterStemmer\n",
    "from nltk.corpus import stopwords\n",
    "from nltk.tokenize import word_tokenize\n",
    "import string\n",
    "import cv2\n",
    "from collections import defaultdict"
   ]
  },
  {
   "cell_type": "markdown",
   "id": "9c5ea081",
   "metadata": {},
   "source": [
    "# Pre-processing"
   ]
  },
  {
   "cell_type": "code",
   "execution_count": 123,
   "id": "16063c89",
   "metadata": {},
   "outputs": [],
   "source": [
    "# Initialize Porter Stemmer and stopwords\n",
    "stemmer = PorterStemmer()\n",
    "stop_words = set(stopwords.words('english'))\n",
    "\n",
    "def preprocess(text):\n",
    "    # Tokenization and Lowercasing\n",
    "    tokens = word_tokenize(text.lower())\n",
    "    # Remove punctuation, stopwords, and perform stemming\n",
    "    processed_tokens = []\n",
    "    for token in tokens:\n",
    "        # Remove punctuation and check if token is not empty after stripping\n",
    "        token = token.strip(string.punctuation)\n",
    "        if token != '' and len(token) >= 2:\n",
    "            # Perform stemming and filter out stopwords\n",
    "            stemmed_token = stemmer.stem(token)\n",
    "            if stemmed_token not in stop_words:\n",
    "                processed_tokens.append(stemmed_token)\n",
    "    return processed_tokens  # return as list"
   ]
  },
  {
   "cell_type": "markdown",
   "id": "2efbeb1b",
   "metadata": {},
   "source": [
    "# Inverted Index"
   ]
  },
  {
   "cell_type": "code",
   "execution_count": 124,
   "id": "a3a5456c",
   "metadata": {},
   "outputs": [],
   "source": [
    "def get_static_path(file_name):\n",
    "    # Assuming notebook is in the same directory as the static folder\n",
    "    notebook_dir = os.getcwd()\n",
    "    static_folder = os.path.join(notebook_dir, 'static')\n",
    "    return os.path.join(static_folder, file_name)"
   ]
  },
  {
   "cell_type": "code",
   "execution_count": 125,
   "id": "a98636f1",
   "metadata": {},
   "outputs": [],
   "source": [
    "def load_inverted_index(file_path):\n",
    "    inverted_index = {}\n",
    "    with open(file_path, \"r\", encoding='utf-8') as file:\n",
    "        for line in file:\n",
    "            # Split the line into term and postings\n",
    "            term, postings_str = line.strip().split(\":\", 1)\n",
    "            # Convert postings string to list of dictionaries\n",
    "            postings = eval(postings_str)\n",
    "            # Create a dictionary entry for the term\n",
    "            inverted_index[term] = postings\n",
    "    return inverted_index\n",
    "\n",
    "# Assuming your inverted index file is located in a 'static' folder in the same directory as your script\n",
    "# Construct the file path dynamically using the get_static_path function\n",
    "inverted_index_path = get_static_path('updated_inverted_index.txt')\n",
    "inverted_index = load_inverted_index(inverted_index_path)"
   ]
  },
  {
   "cell_type": "markdown",
   "id": "9635bdcd",
   "metadata": {},
   "source": [
    "# Ranking: BM-25"
   ]
  },
  {
   "cell_type": "code",
   "execution_count": 126,
   "id": "6c9001cf",
   "metadata": {},
   "outputs": [],
   "source": [
    "def idf(term, N, doc_freq):\n",
    "    return math.log((N - doc_freq + 0.5) / (doc_freq + 0.5) + 1)\n",
    "\n",
    "def compute_bm25(inverted_index, query_terms, k1=1.5, b=0.75):\n",
    "    bm25_scores = []\n",
    "    N = len(inverted_index)  # Total number of images\n",
    "    total_text_length = sum(sum(posting['term_frequency'] for posting in postings) for postings in inverted_index.values())\n",
    "    avgdl = total_text_length / N  # Average document length\n",
    "    \n",
    "    for term in query_terms:\n",
    "        idf_val = idf(term, N, len(inverted_index.get(term, [])))\n",
    "        if idf_val == 0:\n",
    "            continue  # Skip terms with IDF of 0\n",
    "        for posting in inverted_index.get(term, []):\n",
    "            doc_id = posting['image']\n",
    "            doc_len = sum(posting['term_frequency'] for posting in inverted_index[term])  # Assuming all terms contribute to the document length\n",
    "            # Calculate BM25 term score\n",
    "            term_score = idf_val * (posting['term_frequency'] * (k1 + 1)) / (posting['term_frequency'] + k1 * (1 - b + b * (doc_len / avgdl)))\n",
    "            bm25_scores.append((term, doc_id, term_score))\n",
    "    \n",
    "    return bm25_scores\n",
    "\n",
    "def rank_bm25(query, inverted_index, k1=1.5, b=0.75):\n",
    "    query_terms = preprocess(query)  # Assuming the query is already preprocessed\n",
    "    bm25_scores = compute_bm25(inverted_index, query_terms, k1, b)\n",
    "    # Filter images that don't contain all query terms\n",
    "    relevant_docs = set(posting[1] for posting in bm25_scores)\n",
    "    for term in query_terms:\n",
    "        if term in inverted_index:\n",
    "            relevant_docs.intersection_update(posting['image'] for posting in inverted_index[term])\n",
    "    ranked_docs = [posting for posting in bm25_scores if posting[1] in relevant_docs]\n",
    "    return ranked_docs\n"
   ]
  },
  {
   "cell_type": "markdown",
   "id": "c3edcef3",
   "metadata": {},
   "source": [
    "# Remove Duplicates - OpenCV"
   ]
  },
  {
   "cell_type": "code",
   "execution_count": 127,
   "id": "411a5c4c",
   "metadata": {},
   "outputs": [],
   "source": [
    "#  Compare images using OpenCV feature extraction\n",
    "def compute_image_features(image_path):\n",
    "    try:\n",
    "        image_path = get_static_path(image_path)\n",
    "        img = cv2.imread(image_path)\n",
    "        gray = cv2.cvtColor(img, cv2.COLOR_BGR2GRAY)\n",
    "        # Use a feature extraction technique like ORB\n",
    "        orb = cv2.ORB_create()\n",
    "        keypoints, descriptors = orb.detectAndCompute(gray, None)\n",
    "        return descriptors\n",
    "    except Exception as e:\n",
    "        print(f\"Error processing image {image_path}: {e}\")\n",
    "        return None\n",
    "\n",
    "#  Group similar images together\n",
    "def find_similar_images(inverted_index):\n",
    "    similar_images = defaultdict(list)\n",
    "    for keyword, image_info_list in inverted_index.items():\n",
    "        for image_info in image_info_list:\n",
    "            image_path = image_info['positions']\n",
    "            features = compute_image_features(image_path)\n",
    "            if features is not None:\n",
    "                similar_images[keyword].append({'image': image_info['image'], 'features': features})\n",
    "    return similar_images\n",
    "\n",
    "#Identify representative images from each group\n",
    "def identify_representative_images(similar_images):\n",
    "    representative_images = {}\n",
    "    for keyword, images_info in similar_images.items():\n",
    "        representative_images[keyword] = []\n",
    "        # Choose a representative image based on a criteria, e.g., most features\n",
    "        representative_image = max(images_info, key=lambda x: len(x['features']))\n",
    "        representative_images[keyword].append(representative_image)\n",
    "    return representative_images\n"
   ]
  },
  {
   "cell_type": "markdown",
   "id": "502739ce",
   "metadata": {},
   "source": [
    "# Retrieval: Return Images by User Query"
   ]
  },
  {
   "cell_type": "code",
   "execution_count": 156,
   "id": "89e3c8fc",
   "metadata": {},
   "outputs": [],
   "source": [
    "def filter_images_by_query(query_tokens, selected_country, inverted_index, file_path, run_name):\n",
    "   \n",
    "    #static_folder = r\"C:\\Users\\MR962RZ\\OneDrive - EY\\Documents\\EY\\NUIG Masters\\DCU modules\\Mechanics of Search\\Assignment 2\\static\"\n",
    "    # Define the path to the images metadata file\n",
    "    metadata_file = get_static_path(\"textual_surrogate2.txt\")\n",
    "    # Initialize a dictionary to store image metadata\n",
    "    image_metadata = {}\n",
    "    # Read the metadata file and parse its contents as JSON\n",
    "    with open(metadata_file, \"r\", encoding='utf-8') as file:\n",
    "        data = json.load(file)\n",
    "        \n",
    "        # Calculate BM25 scores for images\n",
    "        bm25_scores = rank_bm25(' '.join(query_tokens), inverted_index)\n",
    "        write_results(bm25_scores, file_path, run_name)\n",
    "        # Get the image metadata based on the ranked image IDs\n",
    "        for term, image_id, score in bm25_scores:\n",
    "            image_entry = next((entry for entry in data if entry['id'] == image_id), None)\n",
    "            if image_entry:\n",
    "                image_metadata[image_id] = image_entry\n",
    "                image_metadata[image_id]['original_caption'] = image_entry['original_caption']\n",
    "                image_metadata[image_id]['original_country'] = image_entry['original_country']\n",
    "              #  image_entry['original_caption'] = image_entry['caption']\n",
    "                \n",
    "    # Step 6: Filter out duplicate images based on image features\n",
    "    def filter_duplicates(image_metadata):\n",
    "        unique_image_metadata = []\n",
    "        seen_features = set()\n",
    "        for image in image_metadata.values():\n",
    "            features = compute_image_features(image['image_path'])\n",
    "            if features is not None:\n",
    "                features_tuple = tuple(tuple(row) for row in features)  # Convert NumPy array to tuple of tuples\n",
    "                hash_value = hash(features_tuple)\n",
    "                if hash_value not in seen_features:\n",
    "                    unique_image_metadata.append(image)\n",
    "                    seen_features.add(hash_value)\n",
    "        return unique_image_metadata\n",
    "\n",
    "    # Filter out duplicate images\n",
    "    unique_image_metadata = filter_duplicates(image_metadata)\n",
    "\n",
    "    return unique_image_metadata"
   ]
  },
  {
   "cell_type": "markdown",
   "id": "1b25ea00",
   "metadata": {},
   "source": [
    "# Output Model Results per Query"
   ]
  },
  {
   "cell_type": "code",
   "execution_count": 157,
   "id": "5a6105dc",
   "metadata": {},
   "outputs": [],
   "source": [
    "def write_results(results, file_path, run_name):\n",
    "    print(\"Results:\", results)  # Add this line to inspect the results\n",
    "    with open(file_path, 'w') as f:\n",
    "        rank = 1  # Initialize rank counter\n",
    "        for result in results:\n",
    "            if result[2] != 0.0:  # Exclude results with score 0.0\n",
    "                query_id =  str(result[0])\n",
    "                document_id =  str(result[1])\n",
    "                score = result[2]\n",
    "                # Write in TREC format: <query_id> <Q0> <doc_id> <rank> <score> <run_id>\n",
    "                f.write(f\"{query_id} Q0 {document_id} {rank} {score} {run_name}\\n\")\n",
    "                rank += 1  # Increment rank for the next document\n",
    "\n"
   ]
  },
  {
   "cell_type": "markdown",
   "id": "ab31432f",
   "metadata": {},
   "source": [
    "# Web Application - Flask"
   ]
  },
  {
   "cell_type": "code",
   "execution_count": 158,
   "id": "13aac5ae",
   "metadata": {},
   "outputs": [],
   "source": [
    "# Parse the textual_surrogate2.txt file to extract unique country values\n",
    "textual_surrogate_file= get_static_path(\"original_textual_surrogate.txt\")\n",
    "with open(textual_surrogate_file, 'r') as f:\n",
    "    data = json.load(f)\n",
    "\n",
    "# Extract unique country values\n",
    "unique_countries = sorted(set(entry['country'] for entry in data))\n",
    "\n",
    "# Modify the image entries to include original captions\n",
    "for entry in data:\n",
    "    entry['original_caption'] = entry['caption']"
   ]
  },
  {
   "cell_type": "code",
   "execution_count": null,
   "id": "57e53bb3",
   "metadata": {},
   "outputs": [
    {
     "name": "stdout",
     "output_type": "stream",
     "text": [
      " * Serving Flask app '__main__'\n",
      " * Debug mode: on\n"
     ]
    },
    {
     "name": "stderr",
     "output_type": "stream",
     "text": [
      "WARNING: This is a development server. Do not use it in a production deployment. Use a production WSGI server instead.\n",
      " * Running on http://127.0.0.1:8080\n",
      "Press CTRL+C to quit\n",
      "127.0.0.1 - - [03/May/2024 15:55:19] \"GET / HTTP/1.1\" 200 -\n",
      "127.0.0.1 - - [03/May/2024 15:55:19] \"GET /static/vendor/bootstrap/css/bootstrap.min.css HTTP/1.1\" 304 -\n",
      "127.0.0.1 - - [03/May/2024 15:55:19] \"GET /static/vendor/bootstrap-icons/bootstrap-icons.css HTTP/1.1\" 304 -\n",
      "127.0.0.1 - - [03/May/2024 15:55:19] \"GET /static/vendor/swiper/swiper-bundle.min.css HTTP/1.1\" 304 -\n",
      "127.0.0.1 - - [03/May/2024 15:55:19] \"GET /static/vendor/glightbox/css/glightbox.min.css HTTP/1.1\" 304 -\n",
      "127.0.0.1 - - [03/May/2024 15:55:19] \"GET /static/vendor/aos/aos.css HTTP/1.1\" 304 -\n",
      "127.0.0.1 - - [03/May/2024 15:55:19] \"GET /static/css/main.css HTTP/1.1\" 304 -\n",
      "127.0.0.1 - - [03/May/2024 15:55:19] \"GET /static/vendor/bootstrap/js/bootstrap.bundle.min.js HTTP/1.1\" 304 -\n",
      "127.0.0.1 - - [03/May/2024 15:55:19] \"GET /static/vendor/swiper/swiper-bundle.min.js HTTP/1.1\" 304 -\n",
      "127.0.0.1 - - [03/May/2024 15:55:19] \"GET /static/vendor/glightbox/js/glightbox.min.js HTTP/1.1\" 304 -\n",
      "127.0.0.1 - - [03/May/2024 15:55:19] \"GET /static/vendor/aos/aos.js HTTP/1.1\" 304 -\n",
      "127.0.0.1 - - [03/May/2024 15:55:19] \"GET /static/js/main.js HTTP/1.1\" 304 -\n",
      "127.0.0.1 - - [03/May/2024 15:55:19] \"GET /static/vendor/bootstrap-icons/fonts/bootstrap-icons.woff2?dd67030699838ea613ee6dbda90effa6 HTTP/1.1\" 304 -\n"
     ]
    },
    {
     "name": "stdout",
     "output_type": "stream",
     "text": [
      "Results: [('robin', 'a2244995-131d-4d5e-9c8c-ec217a03b049', 2.440009675367606), ('robin', 'e8eede5f-7b6b-4e59-bbed-c4f373a478da', 3.987016329034715), ('robin', 'c7e034b8-3b9a-43c1-abf4-a24a2fa4b8e1', 2.440009675367606), ('robin', '791f4467-217c-4fab-b33f-af4e4ff158c2', 2.440009675367606), ('robin', 'ccb49917-7103-485a-8418-a128d7f63d1d', 2.440009675367606), ('robin', 'e15a884f-90f9-4a08-939d-e04a574df2c1', 2.440009675367606), ('robin', '439ba49d-db1e-40ae-bdb0-e861dadfdb88', 2.440009675367606), ('robin', '5477687b-5d1a-4a63-80e2-2aa4caf80d0c', 2.440009675367606), ('robin', 'ab5ea243-6b03-4bf4-a615-bb339343b4b4', 2.440009675367606), ('robin', '0d895b27-dfee-4470-9191-362a4f86ba0c', 3.987016329034715), ('robin', 'a1118364-eaf1-4aab-b80c-a0a36e51d6fd', 2.440009675367606), ('robin', '83167374-0e96-46b4-86c8-0295d8b51b98', 2.440009675367606), ('robin', 'a4478de6-d87c-44f6-85c2-379366a79ebf', 2.440009675367606), ('robin', '4a67b191-1965-4de5-bcd1-31ecb8032626', 2.440009675367606), ('robin', '7154d2e2-553a-4231-af45-244037522a13', 2.440009675367606), ('robin', 'b5e28f41-7556-434a-913a-5acb343396aa', 2.440009675367606), ('robin', '5ac9a84f-5750-4005-8ef9-fe9c20598355', 2.440009675367606), ('robin', '151eec1a-9be7-4a4f-8da5-99310deefca1', 2.440009675367606), ('robin', '94b1b4b8-351a-4d72-ad9b-a9b9748d6877', 2.440009675367606), ('robin', '23d72be1-99e1-4384-941f-b4a377bcffe5', 2.440009675367606), ('robin', 'c5b5d7dc-de31-45c7-9624-eb2b73b9c157', 2.440009675367606), ('robin', '42aaa972-d611-4177-b9da-043704b7a4b8', 2.440009675367606), ('robin', '621a0f83-51e8-43fc-a76a-5a9da665124c', 2.440009675367606), ('robin', '9c3ae17d-6e7d-4594-b983-2f7835750041', 2.440009675367606), ('robin', '3811cc82-25ff-4ed5-9839-3b7d6002cb0e', 2.440009675367606), ('robin', '75f1d190-a536-42c2-8c81-8b978329b95c', 2.440009675367606), ('robin', '6a974a83-4fd4-49c9-a91c-006be0fea208', 2.440009675367606), ('robin', '33f29af4-368d-4ff5-bb57-ad2bfbc5e7ab', 2.440009675367606), ('robin', '45bdd5ff-c034-40af-ad91-c772e069bd2e', 2.440009675367606), ('robin', 'df779112-40d0-4240-aa5f-08c317444a7a', 2.440009675367606), ('robin', '9d922ec1-477d-4e96-ba66-9eec0d25384b', 2.440009675367606), ('robin', '07f2a06c-060f-4db9-abaa-9bd12c5b2b88', 3.987016329034715), ('robin', '167b584d-0c21-4875-a83d-b23dede0f5d2', 2.440009675367606), ('robin', '6b1a4043-5588-4058-b8f5-bffca7ae6f91', 2.440009675367606), ('robin', '7a599e6e-7790-45dc-adde-aa4a989646d2', 2.440009675367606), ('robin', '9383f734-234a-4d40-81f6-2da9c1b4828a', 2.440009675367606), ('robin', '892a6d3b-230e-4cd6-9d0c-9326f51dfa00', 2.440009675367606), ('robin', '10a964f5-7a2f-408d-9a48-dea983212c18', 2.440009675367606), ('robin', 'a5df3a46-1d5c-4260-9f34-a49572849d3d', 2.440009675367606), ('robin', 'fa01099f-ff18-4f0b-b103-7e61d426af74', 2.440009675367606), ('robin', '09cff918-9daa-4499-8167-ca88440297bb', 2.440009675367606), ('robin', '827b48e2-def3-4720-9a14-7728b02dfe44', 2.440009675367606), ('robin', '24d22b1e-f77d-4c0e-bb00-69e761c9da06', 2.440009675367606)]\n"
     ]
    },
    {
     "name": "stderr",
     "output_type": "stream",
     "text": [
      "127.0.0.1 - - [03/May/2024 15:55:27] \"POST /search-results HTTP/1.1\" 200 -\n",
      "127.0.0.1 - - [03/May/2024 15:55:27] \"GET /static/vendor/bootstrap/css/bootstrap.min.css HTTP/1.1\" 304 -\n",
      "127.0.0.1 - - [03/May/2024 15:55:27] \"GET /static/vendor/bootstrap-icons/bootstrap-icons.css HTTP/1.1\" 304 -\n",
      "127.0.0.1 - - [03/May/2024 15:55:27] \"GET /static/vendor/swiper/swiper-bundle.min.css HTTP/1.1\" 304 -\n",
      "127.0.0.1 - - [03/May/2024 15:55:27] \"GET /static/vendor/glightbox/css/glightbox.min.css HTTP/1.1\" 304 -\n",
      "127.0.0.1 - - [03/May/2024 15:55:27] \"GET /static/vendor/aos/aos.css HTTP/1.1\" 304 -\n",
      "127.0.0.1 - - [03/May/2024 15:55:27] \"GET /static/css/main.css HTTP/1.1\" 304 -\n",
      "127.0.0.1 - - [03/May/2024 15:55:27] \"GET /static/vendor/bootstrap/js/bootstrap.bundle.min.js HTTP/1.1\" 304 -\n",
      "127.0.0.1 - - [03/May/2024 15:55:27] \"GET /static/vendor/swiper/swiper-bundle.min.js HTTP/1.1\" 304 -\n",
      "127.0.0.1 - - [03/May/2024 15:55:27] \"GET /static/vendor/glightbox/js/glightbox.min.js HTTP/1.1\" 304 -\n",
      "127.0.0.1 - - [03/May/2024 15:55:27] \"GET /static/vendor/aos/aos.js HTTP/1.1\" 304 -\n",
      "127.0.0.1 - - [03/May/2024 15:55:27] \"GET /static/js/main.js HTTP/1.1\" 304 -\n",
      "127.0.0.1 - - [03/May/2024 15:55:38] \"POST /search-results HTTP/1.1\" 200 -\n",
      "127.0.0.1 - - [03/May/2024 15:55:38] \"GET /static/vendor/bootstrap/css/bootstrap.min.css HTTP/1.1\" 304 -\n",
      "127.0.0.1 - - [03/May/2024 15:55:38] \"GET /static/vendor/bootstrap-icons/bootstrap-icons.css HTTP/1.1\" 304 -\n",
      "127.0.0.1 - - [03/May/2024 15:55:38] \"GET /static/vendor/glightbox/css/glightbox.min.css HTTP/1.1\" 304 -\n",
      "127.0.0.1 - - [03/May/2024 15:55:38] \"GET /static/vendor/swiper/swiper-bundle.min.css HTTP/1.1\" 304 -\n",
      "127.0.0.1 - - [03/May/2024 15:55:38] \"GET /static/vendor/aos/aos.css HTTP/1.1"
     ]
    },
    {
     "name": "stdout",
     "output_type": "stream",
     "text": [
      "Results: [('robin', '07f2a06c-060f-4db9-abaa-9bd12c5b2b88', 3.987016329034715), ('ireland', '07f2a06c-060f-4db9-abaa-9bd12c5b2b88', 1.5265863814452612)]\n"
     ]
    },
    {
     "name": "stderr",
     "output_type": "stream",
     "text": [
      "\" 304 -\n",
      "127.0.0.1 - - [03/May/2024 15:55:38] \"GET /static/css/main.css HTTP/1.1\" 304 -\n",
      "127.0.0.1 - - [03/May/2024 15:55:38] \"GET /static/vendor/bootstrap/js/bootstrap.bundle.min.js HTTP/1.1\" 304 -\n",
      "127.0.0.1 - - [03/May/2024 15:55:38] \"GET /static/vendor/swiper/swiper-bundle.min.js HTTP/1.1\" 304 -\n",
      "127.0.0.1 - - [03/May/2024 15:55:38] \"GET /static/vendor/glightbox/js/glightbox.min.js HTTP/1.1\" 304 -\n",
      "127.0.0.1 - - [03/May/2024 15:55:38] \"GET /static/vendor/aos/aos.js HTTP/1.1\" 304 -\n",
      "127.0.0.1 - - [03/May/2024 15:55:38] \"GET /static/js/main.js HTTP/1.1\" 304 -\n",
      "127.0.0.1 - - [03/May/2024 15:55:48] \"POST /search-results HTTP/1.1\" 200 -\n",
      "127.0.0.1 - - [03/May/2024 15:55:48] \"GET /static/vendor/bootstrap/css/bootstrap.min.css HTTP/1.1\" 304 -\n",
      "127.0.0.1 - - [03/May/2024 15:55:48] \"GET /static/vendor/bootstrap-icons/bootstrap-icons.css HTTP/1.1\" 304 -\n",
      "127.0.0.1 - - [03/May/2024 15:55:48] \"GET /static/vendor/swiper/swiper-bundle.min.css HTTP/1.1\" 304 -\n",
      "127.0.0.1 - - [03/May/2024 15:55:48] \"GET /static/vendor/glightbox/css/glightbox.min.css HTTP/1.1\" 304 -\n",
      "127.0.0.1 - - [03/May/2024 15:55:48] \"GET /static/vendor/aos/aos.css HTTP/1.1\" 304 -\n",
      "127.0.0.1 - - [03/May/2024 15:55:48] \"GET /static/css/main.css HTTP/1.1\" 304 -\n",
      "127.0.0.1 - - [03/May/2024 15:55:48] \"GET /static/vendor/bootstrap/js/bootstrap.bundle.min.js HTTP/1.1\" 304 -\n",
      "127.0.0.1 - - [03/May/2024 15:55:48] \"GET /static/vendor/swiper/swiper-bundle.min.js HTTP/1.1\" 304 -\n",
      "127.0.0.1 - - [03/May/2024 15:55:48] \"GET /static/vendor/glightbox/js/glightbox.min.js HTTP/1.1\" 304 -\n",
      "127.0.0.1 - - [03/May/2024 15:55:48] \"GET /static/vendor/aos/aos.js HTTP/1.1\" 304 -\n",
      "127.0.0.1 - - [03/May/2024 15:55:48] \"GET /static/js/main.js HTTP/1.1\" 304 -\n"
     ]
    },
    {
     "name": "stdout",
     "output_type": "stream",
     "text": [
      "Results: [('owl', '1a12ddc4-9ecc-4c28-aeef-5b1599024064', 0.97988313958459), ('owl', '30beeca7-d037-4a8a-abe7-6560c1ba5e27', 0.97988313958459), ('ireland', '1a12ddc4-9ecc-4c28-aeef-5b1599024064', 1.5265863814452612), ('ireland', '30beeca7-d037-4a8a-abe7-6560c1ba5e27', 1.5265863814452612)]\n",
      "Results: [('duck', 'a595a315-15fb-4e49-b50b-e443f954e3f8', 0.08874669653359799), ('duck', '558293dd-60db-4a9c-8187-43592fef366a', 0.08874669653359799), ('duck', 'd9716e2c-159f-42b6-a486-6816a3751004', 0.1741200635078951), ('duck', '142750ab-006e-40f4-a330-5f99a1d3fb4a', 0.08874669653359799), ('duck', 'd6b0ba30-843c-49a6-bbdf-55dd2cfb24a5', 0.08874669653359799), ('duck', '98be8389-0c9b-4238-b322-9f13532a6fbd', 0.08874669653359799), ('duck', 'ae74c165-6f1b-4b51-8447-3e3c92d1f1cb', 0.1741200635078951), ('duck', 'dbab38dc-f999-40fe-b422-639913d7ea6c', 0.08874669653359799), ('duck', '05bd9432-6ed0-4834-b02d-1fd1d89954d3', 0.08874669653359799), ('ireland', 'a595a315-15fb-4e49-b50b-e443f954e3f8', 1.5265863814452612), ('ireland', '558293dd-60db-4a9c-8187-43592fef366a', 1.5265863814452612), ('ireland', 'd9716e2c-159f-42b6-a486-6816a3751004', 1.5265863814452612), ('ireland', '142750ab-006e-40f4-a330-5f99a1d3fb4a', 1.5265863814452612), ('ireland', 'd6b0ba30-843c-49a6-bbdf-55dd2cfb24a5', 1.5265863814452612), ('ireland', '98be8389-0c9b-4238-b322-9f13532a6fbd', 1.5265863814452612), ('ireland', 'ae74c165-6f1b-4b51-8447-3e3c92d1f1cb', 1.5265863814452612), ('ireland', 'dbab38dc-f999-40fe-b422-639913d7ea6c', 1.5265863814452612), ('ireland', '05bd9432-6ed0-4834-b02d-1fd1d89954d3', 1.5265863814452612)]\n"
     ]
    },
    {
     "name": "stderr",
     "output_type": "stream",
     "text": [
      "127.0.0.1 - - [03/May/2024 15:56:06] \"POST /search-results HTTP/1.1\" 200 -\n",
      "127.0.0.1 - - [03/May/2024 15:56:06] \"GET /static/vendor/bootstrap/css/bootstrap.min.css HTTP/1.1\" 304 -\n",
      "127.0.0.1 - - [03/May/2024 15:56:06] \"GET /static/vendor/bootstrap-icons/bootstrap-icons.css HTTP/1.1\" 304 -\n",
      "127.0.0.1 - - [03/May/2024 15:56:06] \"GET /static/vendor/swiper/swiper-bundle.min.css HTTP/1.1\" 304 -\n",
      "127.0.0.1 - - [03/May/2024 15:56:06] \"GET /static/vendor/glightbox/css/glightbox.min.css HTTP/1.1\" 304 -\n",
      "127.0.0.1 - - [03/May/2024 15:56:06] \"GET /static/vendor/aos/aos.css HTTP/1.1\" 304 -\n",
      "127.0.0.1 - - [03/May/2024 15:56:06] \"GET /static/vendor/bootstrap/js/bootstrap.bundle.min.js HTTP/1.1\" 304 -\n",
      "127.0.0.1 - - [03/May/2024 15:56:06] \"GET /static/css/main.css HTTP/1.1\" 304 -\n",
      "127.0.0.1 - - [03/May/2024 15:56:06] \"GET /static/vendor/swiper/swiper-bundle.min.js HTTP/1.1\" 304 -\n",
      "127.0.0.1 - - [03/May/2024 15:56:06] \"GET /static/vendor/glightbox/js/glightbox.min.js HTTP/1.1\" 304 -\n",
      "127.0.0.1 - - [03/May/2024 15:56:06] \"GET /static/vendor/aos/aos.js HTTP/1.1\" 304 -\n",
      "127.0.0.1 - - [03/May/2024 15:56:06] \"GET /static/js/main.js HTTP/1.1\" 304 -\n"
     ]
    },
    {
     "name": "stdout",
     "output_type": "stream",
     "text": [
      "Results: [('bird', 'e655d0c9-88c0-401e-8d90-2c235c52e420', 0.02547840820577644), ('bird', 'a01c35aa-c6d8-483b-8bb8-7ad6a6bf9c08', 0.02547840820577644), ('bird', 'c49de302-2878-4b71-9894-4f657ddafde1', 0.02547840820577644), ('bird', '2a2e00e8-b851-433b-8db9-92477646f2b2', 0.02547840820577644), ('bird', 'd09695c9-99a9-4dfc-8fb4-41ef965d06ab', 0.02547840820577644), ('bird', 'b7d0c2c2-ddb5-4ebf-a72d-a16f25bc419b', 0.02547840820577644), ('bird', '795c7595-701e-499e-a4ae-fbde2a2de9cc', 0.02547840820577644), ('bird', '290295e6-56dc-4f22-8cf0-34d8f3eac506', 0.02547840820577644), ('bird', 'f9c3072d-c0ff-4b53-a320-335490fefa8a', 0.02547840820577644), ('bird', '60f0b9f9-baee-455e-9f50-f5828a3be8d5', 0.02547840820577644), ('bird', 'f0c4edfc-bb7b-4a39-b0e9-d6e4654ed633', 0.02547840820577644), ('bird', 'b6c72815-d51b-493a-a5d5-6012e94b27f0', 0.02547840820577644), ('bird', 'a3435421-65bf-4512-b9c2-9d9821cbefd8', 0.02547840820577644), ('bird', '7f890eb7-8ab4-4886-b524-d9cd2d690e96', 0.02547840820577644), ('bird', '7a54089a-8d52-4c44-99f3-c9b89907077e', 0.02547840820577644), ('bird', '904d1e22-8d58-4b35-9ec9-4750269e00bd', 0.02547840820577644), ('bird', '72a8b7c2-fe36-4c98-86b9-bef3b101dc68', 0.02547840820577644), ('bird', 'e6405fa8-d320-4b99-a294-5829951da535', 0.02547840820577644), ('bird', '98b508fa-0f70-4ec7-bbb3-128f4a9d9c3a', 0.02547840820577644), ('bird', '21da8f37-d09c-4ddf-a563-2bd8cb177758', 0.02547840820577644), ('bird', '1d80cade-aea4-4265-8553-77dfdfda6cac', 0.02547840820577644), ('bird', '6f7ca1d8-a3a7-44ce-958a-0a96499364c3', 0.02547840820577644), ('bird', '4f63cbbf-8923-449b-971b-478375dc082c', 0.02547840820577644), ('bird', '0984309a-2881-432b-a74a-eb30600a043a', 0.02547840820577644), ('bird', '8ce07dc5-dd0e-44f1-b951-3cff72f04642', 0.02547840820577644), ('bird', '9828f760-9dc0-4442-b4a4-86333f1c9ff8', 0.02547840820577644), ('bird', '753241b0-d7e3-4037-a715-9606c593991e', 0.02547840820577644), ('bird', '1da57045-9a8f-40ae-bd05-dd3e99cd223f', 0.02547840820577644), ('bird', '2818b7c6-73e4-4f00-9a01-459f7bf28d09', 0.02547840820577644), ('bird', '190e54aa-3bb7-4433-89c7-eea444035197', 0.02547840820577644), ('bird', 'f880764e-1447-4a6a-a927-0a0b1c0b919e', 0.02547840820577644), ('bird', '0855622a-9700-43f1-b2d5-636243310b3d', 0.02547840820577644), ('bird', '2cddc9d6-de27-4696-811c-7c68c3c8e261', 0.050425684553674875), ('bird', 'b3ecf6da-6b56-4a45-a158-a20ef58eb4d6', 0.02547840820577644), ('bird', '387afa4e-9fb4-44e7-8531-115802491ed1', 0.050425684553674875), ('bird', '355f71be-f93b-4817-9437-d5583e2efc6d', 0.02547840820577644), ('bird', '2e88e0f9-85df-4fb4-b70b-8e9d22a57c30', 0.02547840820577644), ('bird', '92d09e51-63fd-4025-afee-3c39fae7dc88', 0.02547840820577644), ('bird', 'c51107eb-b048-438b-96fe-476402bf897b', 0.02547840820577644), ('bird', 'f0414d6d-aad4-4ef1-9072-495bcc25e225', 0.02547840820577644), ('bird', '9da2db45-5d7a-451c-b70c-dba82feea932', 0.02547840820577644), ('bird', '22cc501a-55e7-4f86-af80-240fa62a64be', 0.02547840820577644), ('bird', '25a4499d-4266-4fdc-bf7d-281efba5602d', 0.02547840820577644), ('bird', '4c3cc1b9-d81e-4670-a12a-7b6864f60378', 0.02547840820577644), ('bird', '7d24f038-a2cb-4a2b-98b6-9c35e36a4317', 0.02547840820577644), ('bird', 'd292d6c0-7756-45ab-9d92-db4b55e4b294', 0.02547840820577644), ('bird', 'c9fb0891-c420-43b8-a2c8-c1c551d2619b', 0.02547840820577644), ('bird', '93068cf4-8cf0-47e1-96c7-88b1a73044c8', 0.02547840820577644), ('bird', '7753b307-0dc3-450d-b197-b6e79bbe945d', 0.050425684553674875), ('bird', '939e646f-ceb5-41b6-a41f-2285f6617165', 0.02547840820577644), ('bird', '522e0d46-b08c-42f8-b708-dec56ba68098', 0.02547840820577644), ('bird', 'dec39e96-ed6b-45c3-9589-b7b79b7cb53a', 0.02547840820577644), ('bird', '96e7aacb-57d3-4daa-b1f1-35785fc12438', 0.02547840820577644), ('bird', '4930944a-8119-41dd-9a27-3c72db5f5f1d', 0.02547840820577644), ('bird', '3f9f7ac2-aff8-406f-aa67-77b9b494218e', 0.02547840820577644), ('bird', '014fe9a9-5167-4b70-b1f1-b02d8fefb60b', 0.02547840820577644), ('bird', '0f17b178-74fa-4d8e-bdd2-ef9568e9fc55', 0.02547840820577644), ('bird', '985a842a-cf87-47be-878a-7b08786386cb', 0.02547840820577644), ('bird', '7cd27cb5-2d82-40cb-812c-c54329d453fc', 0.02547840820577644), ('bird', '4a3d5650-aea0-4be0-8d6b-fb8dcc039794', 0.02547840820577644), ('bird', '48424365-d5e6-4101-b012-5042b4bf9c22', 0.02547840820577644), ('bird', 'c1e9c368-56df-4439-a03f-5c9c32f5419d', 0.02547840820577644), ('bird', '76920aee-9762-48cc-90f1-a83ffd446673', 0.02547840820577644), ('bird', '4f8ace54-da84-419f-8fb0-554a5a98a25c', 0.02547840820577644), ('bird', '9d554418-a582-4e84-932f-16e8ec038ca2', 0.02547840820577644), ('bird', '47cc16b4-5b1a-4715-aab1-36f28ba403cc', 0.02547840820577644), ('bird', '666b33a7-8848-4a9c-8059-9a4802b11c31', 0.02547840820577644), ('bird', 'cb145bb9-7174-4bac-ac42-c45d73707880', 0.02547840820577644), ('bird', '3837c546-5ff3-4cd2-b3db-51477e1d0fc4', 0.02547840820577644), ('bird', '4655d3c3-37ba-4b12-a135-363f6d21d527', 0.02547840820577644), ('bird', '684e5dd4-6067-4a24-9c7d-31a4cfeb22c6', 0.02547840820577644), ('bird', '649e1c8c-f4b6-4976-ac08-05bf0655c467', 0.02547840820577644), ('bird', '395186db-6cfb-49ae-addd-9aa765263351', 0.02547840820577644), ('bird', 'd4b94702-8b98-4ff4-9ded-5245b4dd65d0', 0.050425684553674875), ('bird', 'b728a443-90d7-4f89-a052-2110989eaec1', 0.050425684553674875), ('bird', '79ce2aaa-c1fd-48f1-981c-f3c0d05c4705', 0.02547840820577644), ('bird', '49275f10-26ed-4b12-935c-82695c5f3a59', 0.02547840820577644), ('bird', 'c541c3c6-616d-4db1-a662-cede8e6377a3', 0.02547840820577644), ('bird', 'ecf6d68f-82c9-41fa-8474-28fbe4a884fa', 0.02547840820577644), ('bird', '84a025a6-606e-4cf3-928e-833e9031f096', 0.02547840820577644), ('bird', '7c864141-5fb5-4830-9e0d-ba516bffb126', 0.02547840820577644), ('bird', '384d0d1b-93a7-4160-8392-b64ecd97b996', 0.02547840820577644), ('bird', '34bb14b4-15c4-41cf-ad07-8086f5c16432', 0.02547840820577644), ('bird', '87c2c893-d073-4f84-aaff-cd223532b6e6', 0.02547840820577644), ('bird', 'e2c617df-c03d-451a-9d0b-c638edafc23b', 0.02547840820577644), ('bird', '18489edb-3644-44df-a81e-770eeb8c3bf7', 0.02547840820577644), ('bird', '596d6e64-f3a6-4352-8936-ca9993c37ee2', 0.02547840820577644), ('bird', 'd25956b3-111b-41c5-bc13-c21cf0ddc867', 0.02547840820577644), ('bird', 'dbf01995-74b3-4864-81e7-1de1644ba166', 0.050425684553674875), ('bird', '56a2a481-03b2-4731-b492-9f0ac35b4677', 0.050425684553674875), ('bird', '2f1ff3a6-64fe-4888-9dd0-235540f07777', 0.02547840820577644), ('bird', 'e33a56db-044c-4a7b-902e-9d4f78fb3e9c', 0.02547840820577644), ('bird', '839e92f1-52a6-4ca2-8e47-b7b7f67f1b18', 0.02547840820577644), ('bird', '56e0ad20-6749-4397-99b6-1788bc926aa2', 0.02547840820577644), ('bird', 'e559a651-9687-4ccb-883c-e8a9ea948d69', 0.050425684553674875), ('bird', '235ebc35-7cc9-48ba-80ea-d27b04895c61', 0.050425684553674875), ('bird', '9d204499-c947-43c9-98f7-e32378dfc7a5', 0.050425684553674875), ('bird', '1fd4dc8e-f7b3-417e-b753-b533837458e9', 0.02547840820577644), ('bird', 'fa797ba5-53ec-4b54-959b-a15f78f18025', 0.02547840820577644), ('bird', '88cd65d2-2eb3-49ee-a86d-35c993b696c8', 0.02547840820577644), ('bird', '6c3809fe-98fb-4b11-8521-7e3feb7f20b8', 0.02547840820577644), ('bird', 'cf5d1667-185a-44c3-9737-960e7d5fb12a', 0.02547840820577644), ('bird', '1eb5cd65-3bbe-4f91-944b-7aa9fa19c25e', 0.050425684553674875), ('bird', '2e2bbde7-b36f-4397-bfa1-2a87cec14364', 0.050425684553674875), ('bird', '4b2c74d5-9d42-4a15-b385-9957b5c9c3e9', 0.02547840820577644), ('bird', '1e0c8615-11e5-457b-b820-f923e49581dd', 0.02547840820577644), ('bird', '4d0e3de9-9f9d-494a-920a-303ffff96907', 0.02547840820577644), ('bird', 'd194e77e-3b92-4e80-acc2-9f4c44e3475b', 0.02547840820577644), ('bird', '54f69c42-f1a4-4509-84e1-da04e9b49eca', 0.02547840820577644), ('bird', '5d47bd90-a338-492d-8c9d-e42812b321ef', 0.02547840820577644), ('bird', '2b4e7e68-2ede-413e-9588-3f2e4283d5fd', 0.02547840820577644), ('bird', '7d88a27d-a6b1-4401-9a0c-8da9c16b33b9', 0.02547840820577644), ('bird', '5b2ece9d-5e81-44ff-a80e-3b5262ba0b3a', 0.02547840820577644), ('bird', '84821372-cc40-4534-9ed4-dfef6971bf10', 0.02547840820577644), ('bird', 'b59e810a-469c-40ef-aa96-34b5b7e725af', 0.02547840820577644), ('bird', '5f616a33-eb17-4f84-8cfe-49f2f2bdbab1', 0.02547840820577644), ('bird', '432a082f-c7a6-4d0e-b14e-5a768380da0e', 0.02547840820577644), ('bird', '82511091-46d7-43d5-adaf-4266ecb2a84d', 0.050425684553674875), ('bird', '60e8a054-6e7b-4e7b-81dc-af415de9d6d7', 0.02547840820577644), ('bird', '8ccda6a9-946b-417c-96ff-baaec00b91bc', 0.02547840820577644), ('bird', '22b36563-9a9a-40d1-8b43-e391607e8d79', 0.02547840820577644), ('bird', '84720c72-36ad-4c73-9570-663cd03c12c2', 0.02547840820577644), ('bird', 'a480f2b3-daf1-4de7-9305-fa0df6a52ef4', 0.02547840820577644), ('bird', '5c8fb0eb-c8f8-442a-abb2-ccc60e934c8c', 0.02547840820577644), ('bird', '4ecd600e-b16b-4c91-95db-75a48c376622', 0.02547840820577644), ('bird', 'af62f688-3b77-4ac6-b980-09d292f7e018', 0.02547840820577644), ('bird', 'e5d73060-194e-44d3-bbe5-08140e8d9d47', 0.02547840820577644), ('bird', '535d37ad-624b-42dc-a657-6f626e751852', 0.050425684553674875), ('bird', '2d1fd27d-c4fd-4a8b-a667-53d093e436d6', 0.02547840820577644), ('bird', 'fb21c2a9-15c4-4993-968b-fd5c2ce59ab7', 0.050425684553674875), ('bird', '52cac67c-f80b-4355-af09-1e6f05995944', 0.050425684553674875), ('bird', '36d5a1ff-3324-4016-ad84-65236eac6dd7', 0.02547840820577644), ('bird', '7f1cea02-e519-41ce-a25f-afc4c9d26f0c', 0.02547840820577644), ('bird', '24fa7b7d-f20f-4a69-82b3-7b70f6e429c4', 0.02547840820577644), ('bird', 'f58a9a6c-a4c2-4ba4-9b5c-a9efa06a002e', 0.02547840820577644), ('bird', 'ae9532f2-3eaf-4cc3-9cc9-b1cb08793945', 0.02547840820577644), ('bird', '614f0ef4-9845-42e8-9813-c0f59a2e33ff', 0.02547840820577644), ('bird', 'b341720e-35f2-4f92-84a0-1a8ad1adc3b2', 0.02547840820577644), ('bird', 'd8a3ee57-fa13-428b-9c08-8718d072ae3e', 0.02547840820577644), ('bird', '70163a5c-f6fc-4eab-8f89-44b187ce8bd4', 0.02547840820577644), ('bird', 'ab59635c-fb17-49be-aae7-aeb89b418040', 0.02547840820577644), ('bird', '8bf2f066-9f98-4a04-a133-9b16b7fa323d', 0.02547840820577644), ('bird', '3e496f42-0517-468b-b2c1-f83bcc4a33e7', 0.02547840820577644), ('bird', 'c1968b98-8d60-4fc6-aa3e-ccbc7ecad08d', 0.02547840820577644), ('bird', '458bdc30-a53c-4869-874b-1a244d37227e', 0.050425684553674875), ('bird', '7a5b636f-ee28-4a00-9cde-59eea887b2b3', 0.02547840820577644), ('bird', 'c39b55f4-3269-464f-85a0-083bd994884d', 0.02547840820577644), ('bird', '09b0fe57-8b8c-4a6b-aaed-6c3d4509bc5b', 0.02547840820577644), ('bird', '11f39023-469b-4c5a-b3a0-ae78baee198e', 0.02547840820577644), ('bird', '8987386a-f413-4cdd-bff7-3c576fd421c1', 0.02547840820577644), ('bird', '30adc5aa-2e76-4e78-b19d-d26a6c2aec83', 0.02547840820577644), ('bird', 'c01821b0-1db0-4cd5-bf57-b3c05860b691', 0.02547840820577644), ('bird', '3388910c-1143-4260-a565-43ee7e6a8eda', 0.050425684553674875), ('bird', '80606f70-e064-4045-a542-0b65a49f0fd5', 0.02547840820577644), ('bird', 'b4e33ef5-0c0f-4f05-8233-3ad1b8343c8c', 0.050425684553674875), ('bird', '82b16e4d-8c8e-4c0f-a1bf-8edc2ad8242b', 0.02547840820577644), ('bird', 'a2001649-5264-4aaa-a858-e41732254a57', 0.02547840820577644), ('bird', 'da8b3e07-f026-4fc3-885c-8e45534a5bfa', 0.050425684553674875), ('bird', '21a1c4c2-6760-4b76-a297-fa6dc6221a33', 0.02547840820577644), ('bird', 'bdd922b6-573f-4271-9d1a-6ef8772e93f8', 0.02547840820577644), ('bird', '2751b988-e5c2-4c5d-baa3-6e73a5531879', 0.02547840820577644), ('bird', '45b92f3b-45e0-4bcb-98d6-5ada46dacb9c', 0.02547840820577644), ('bird', 'c8758cf9-5350-4fa0-9599-0eb13ff665f2', 0.02547840820577644), ('bird', '4537a7da-7513-4239-b6a6-94233c4a6b15', 0.050425684553674875), ('bird', 'e21111b7-82fb-4e15-b275-193199d5ca98', 0.02547840820577644), ('bird', 'f16dc94e-fd2d-447a-88b8-dca760babc5c', 0.02547840820577644), ('bird', '5e59a9c3-0f4a-4109-963b-555fbaea2f6d', 0.02547840820577644), ('bird', 'aedc15e9-b12e-427f-9dda-45ea5678747c', 0.02547840820577644), ('bird', '8b8bc905-d2a6-465a-b637-415db7a8166e', 0.02547840820577644), ('bird', '651dcf5e-ab82-4d4e-ac64-39fd21d9e490', 0.02547840820577644), ('bird', 'eb48f292-e407-4b01-9ccc-8ab797e02cb8', 0.02547840820577644), ('bird', 'f7082237-6cae-44cd-ad9a-4d3106d57324', 0.050425684553674875), ('bird', 'fb2b9e50-0dd6-4301-97e8-038930eaa11f', 0.02547840820577644), ('bird', '41da43f7-eff5-4160-8c8d-884b38fcde1a', 0.050425684553674875), ('bird', '6880c649-e61d-4933-83d2-df8c99a58c2e', 0.050425684553674875), ('bird', 'cf973094-916a-4475-a22a-3a4bbe111f68', 0.02547840820577644), ('bird', 'a02ac2aa-1eed-4c76-8bf9-ff515d6ef6e2', 0.02547840820577644), ('bird', 'd9a9ef8c-9716-475b-9c4b-9a827a5f9149', 0.02547840820577644), ('bird', '25fd7b3f-442c-41b3-b909-e6506120d9fe', 0.02547840820577644), ('bird', '6bbea42c-0d75-4fd6-9e45-d791dd89fa7e', 0.02547840820577644), ('bird', '77430078-afdd-44bc-8aef-47f861670897', 0.02547840820577644), ('bird', '1f44718a-b6bd-4ee3-87e2-97d6341fe9a5', 0.02547840820577644), ('bird', 'f15cef33-2c47-4b64-8466-1dc52d93d481', 0.02547840820577644), ('bird', 'd48dac8f-4f17-4634-bd4e-ef09993f39ef', 0.02547840820577644), ('bird', '4e16b197-38fa-4619-83b4-33abc1ff362a', 0.02547840820577644), ('bird', '5b14358a-1918-4ad9-b406-f32f690a8b34', 0.02547840820577644), ('bird', 'ce26efe7-651e-4ce0-ac6e-7e5b46d872b7', 0.02547840820577644), ('bird', '21f3a2b6-67fe-45a9-a8dc-c5ef21c13270', 0.02547840820577644), ('bird', '8d11fc21-c05b-4f94-8745-fa47ab5053e0', 0.02547840820577644), ('bird', 'a8df8bc7-3b15-4177-b589-3f70df102561', 0.02547840820577644), ('bird', 'd384d54b-a8d8-4fc2-ad07-029ea39db399', 0.02547840820577644), ('bird', 'e2e68c05-95ce-4ed8-b1a7-abb93f9ae5d4', 0.02547840820577644), ('bird', 'c200c526-f4eb-4ea1-966c-a6d4ecefbde4', 0.02547840820577644), ('bird', 'c6ac1aae-4a05-4729-b3f8-93462e8d2b1a', 0.02547840820577644), ('bird', 'eec8de97-94b8-484e-9dfe-4f46572e6022', 0.02547840820577644), ('bird', 'f9ef9066-c1ec-48c8-9a3f-0dec451eff11', 0.02547840820577644), ('bird', '71303202-4132-4c96-a3c7-e1c143ab8c0e', 0.02547840820577644), ('bird', '25cdefb0-88bf-442d-82b9-3808f18f06b1', 0.02547840820577644), ('bird', '0e1e9d94-dc2f-4814-9957-95d6ddfa1589', 0.02547840820577644), ('bird', '6c54c720-38ca-4021-baf7-0768492b701d', 0.02547840820577644), ('bird', '7093e68b-d371-42d0-ab59-02b4ed82949f', 0.02547840820577644), ('bird', '476374e3-5ba0-447e-91c8-7eb512c51802', 0.02547840820577644), ('bird', '1608156d-46e9-4334-9a05-537a788cab5c', 0.02547840820577644), ('bird', 'a8bfd968-6246-4e17-9ece-deb743d6a951', 0.02547840820577644), ('bird', '75b2d182-7658-4bf4-8ac9-e443d4db0ebb', 0.02547840820577644), ('bird', '8f21602e-d94a-40e3-bcea-dff75c185137', 0.02547840820577644), ('bird', '49a47235-a6a3-412a-93a9-174e21467cd8', 0.02547840820577644), ('bird', '0301a156-d92c-4d47-bdec-0995b9875ed8', 0.02547840820577644), ('bird', 'ad16328a-03ee-4d07-9869-fe28d42e6ad7', 0.02547840820577644), ('bird', '9b3d60ba-dfd6-4aad-8d3e-ba0ab2d259ee', 0.02547840820577644), ('bird', '3ebf3f83-c633-4f5a-8f23-d7df8ea94667', 0.02547840820577644), ('bird', '824bbcc2-bc13-4962-94aa-73e3f4d79d54', 0.02547840820577644), ('bird', '34ec6d94-0ef5-43a3-9e80-d5b6368a40ff', 0.02547840820577644), ('bird', 'f32cac2b-8dac-4fe1-b724-a8b457c7862e', 0.02547840820577644), ('bird', 'a4c09565-cd5d-4585-9bd8-62671d5a580d', 0.02547840820577644), ('bird', '872c208a-23db-4ee5-88b5-276b08491bd1', 0.02547840820577644), ('bird', 'a69bdbf6-922b-4675-bc45-c484bb005b33', 0.02547840820577644), ('bird', '34269f81-7090-40ad-8c31-97090c111322', 0.02547840820577644), ('bird', 'fe471e20-f2e3-4743-986c-d0a326c5f937', 0.02547840820577644), ('bird', 'dff68308-ecce-413a-b845-d8a193375a40', 0.02547840820577644), ('bird', '3fbe38b8-fdd3-41a6-a91c-476b55df8b0d', 0.02547840820577644), ('bird', '4843e11e-bcaa-4f83-b592-1aa8fd13278a', 0.02547840820577644), ('bird', '53bf88f5-63df-4d6d-b380-2413d45cf43b', 0.02547840820577644), ('bird', '5bc07b4e-8a35-43e6-963b-52bf8db097ae', 0.02547840820577644), ('bird', 'f12d7000-8a45-4de2-a526-82a3e14d5a13', 0.02547840820577644), ('bird', '84ae4fd7-299c-4fbd-ae12-9972dfd0d70f', 0.050425684553674875), ('bird', 'b4802ec2-b8a9-46ec-85a5-6d5b199839a9', 0.02547840820577644), ('bird', '465e1fcc-a2ff-4176-b8c0-e78134e324b2', 0.02547840820577644), ('bird', 'ee60a91d-a117-4375-81fb-f3debe66fbd4', 0.050425684553674875), ('bird', 'd00b6d10-61f2-4b65-bbf8-502af00fbf04', 0.050425684553674875), ('bird', 'a6b8da71-947a-45a4-9a69-78cdab7f9a10', 0.050425684553674875), ('bird', '6f668a88-a6d0-4239-bd5a-f6b6d89cc1c3', 0.02547840820577644), ('bird', 'f54311dc-e83e-4562-90cb-ec931141e745', 0.02547840820577644), ('bird', '291e7e5e-ccfb-4501-b016-cd89b25073c5', 0.02547840820577644), ('bird', 'eda4b52d-8568-4fda-ba31-212ffba12690', 0.02547840820577644), ('bird', '70fb6b23-3a0e-4db6-bafd-715044c4be7a', 0.02547840820577644), ('bird', '15170caa-e421-4221-9d40-31777b63ed2a', 0.02547840820577644), ('bird', '808a998f-2168-4765-9d21-5546805a8023', 0.02547840820577644), ('bird', '65b29adb-8c41-4f7d-846d-b42e678fdf0d', 0.02547840820577644), ('bird', '7b4d6ec2-1b57-4dbe-8fc5-fad77be1e694', 0.02547840820577644), ('bird', 'e9931499-f053-4243-a00a-8b2336fe2993', 0.02547840820577644), ('bird', '94ba93c8-005b-464e-9201-70a9f79aa8bf', 0.02547840820577644), ('bird', '7026338b-4358-4983-9a5a-45edfcf761f7', 0.02547840820577644), ('bird', 'c7b1d128-d535-412f-b936-c87ce7d5b0b7', 0.02547840820577644), ('bird', '110037bb-c4ab-419f-9361-2a1731d2e7b6', 0.02547840820577644), ('bird', 'ce4faade-314d-458a-8c30-9754babb3ac5', 0.02547840820577644), ('bird', 'e9b5c0f5-023d-45a9-b940-e521607e70b7', 0.02547840820577644), ('bird', 'f9964ff3-7158-4b7c-9733-c4ff89f8b01a', 0.02547840820577644), ('bird', 'd0d41e50-ff19-467d-9367-4496457fa4a9', 0.02547840820577644), ('bird', 'b2ec086e-4386-479f-b61e-84d95da11218', 0.02547840820577644), ('bird', '6b9e7065-11b7-4247-a2c9-7eb80830d1d0', 0.02547840820577644), ('bird', 'e649cb86-bcae-44a2-b0e3-b7337c2142a1', 0.02547840820577644), ('bird', 'f9a50acc-7f28-41fa-a7f0-188bc1ae4210', 0.02547840820577644), ('bird', '1341ed3a-1b2d-4c3a-a226-41bfca2a9057', 0.050425684553674875), ('bird', 'b7edbdc5-e3c9-4bba-b0d6-a68b0e3ab899', 0.02547840820577644), ('bird', 'eae3ee3a-e908-4de8-9484-7dbfd98d3a62', 0.050425684553674875), ('bird', 'f64f03f6-a5f7-4403-b7d1-e5fa321f92d1', 0.02547840820577644), ('bird', '6fb02d65-24e5-4193-8806-53d503bec1f0', 0.02547840820577644), ('bird', '950de66b-0dd0-455d-95f6-9bfba64b04ae', 0.02547840820577644), ('bird', 'd44ae566-2686-4844-b71e-04f0d3bc811b', 0.02547840820577644), ('bird', '55d45fb3-9d56-4eb7-bb5e-e400a2c03123', 0.02547840820577644), ('bird', '68e4d203-32eb-4446-ab30-244f42678068', 0.02547840820577644), ('bird', '54024843-3e66-411a-abcb-7df14c971432', 0.050425684553674875), ('bird', 'e0e38359-1c68-4b55-a64f-a48d2d8d2dee', 0.02547840820577644), ('bird', 'aa5bdddf-b2d9-454e-bd32-7680436e7284', 0.02547840820577644), ('bird', '4116af7e-d7e0-40a0-a3c8-63dd0c926da4', 0.02547840820577644), ('bird', 'c2317596-cda8-4ae6-be0a-e897d066ca82', 0.02547840820577644), ('bird', '86062755-10e2-42d1-a12f-d2f51e07f260', 0.02547840820577644), ('bird', '5cb1172b-2afa-4a9c-9bc4-61c3be8d7293', 0.02547840820577644), ('bird', 'b1b86c9f-6d4a-4e63-bf69-2af241f7120f', 0.02547840820577644), ('bird', '1a913347-83cb-4b81-8955-d0c0e58e48dc', 0.02547840820577644), ('bird', 'c482639a-d915-4cb2-9213-50893d4b6e03', 0.02547840820577644), ('bird', '90129706-4062-40f4-ac25-c989e8f839dc', 0.02547840820577644), ('bird', '4cbdf15f-e2c5-440d-ae60-65355f83d9c2', 0.02547840820577644), ('bird', '60642c0f-c1bc-4d4e-9661-433e093561bb', 0.02547840820577644), ('bird', 'd60061df-3e0f-426b-9771-23e3cd913691', 0.02547840820577644), ('bird', '22ee376b-ba88-4b1f-a91a-64f9b51ba59e', 0.02547840820577644), ('bird', 'bd34a514-8514-4027-ab4e-6ec643cf6227', 0.02547840820577644), ('bird', '45ad8100-2cc3-4615-9de0-0dbe05599078', 0.02547840820577644), ('bird', 'dbd452f6-c26c-46ba-bcd5-f9762d4d57e2', 0.02547840820577644), ('bird', 'eaf64308-78e4-4796-8154-c916e85f6285', 0.02547840820577644), ('bird', 'fd75bf93-d3c7-456a-9d4a-54d7514e7514', 0.02547840820577644), ('bird', 'ba54ac72-f877-4e8f-be3d-016766ab25cb', 0.02547840820577644), ('bird', '743addf4-68af-4838-98d5-86a062a6703c', 0.02547840820577644), ('bird', 'ccc8c934-ee8d-4974-9c6b-83136ca20034', 0.02547840820577644), ('prey', 'e655d0c9-88c0-401e-8d90-2c235c52e420', 0.29750617213272484), ('prey', 'a01c35aa-c6d8-483b-8bb8-7ad6a6bf9c08', 0.29750617213272484), ('prey', 'c49de302-2878-4b71-9894-4f657ddafde1', 0.29750617213272484), ('prey', '2a2e00e8-b851-433b-8db9-92477646f2b2', 0.29750617213272484), ('prey', 'd09695c9-99a9-4dfc-8fb4-41ef965d06ab', 0.29750617213272484), ('prey', 'b7d0c2c2-ddb5-4ebf-a72d-a16f25bc419b', 0.29750617213272484), ('prey', '795c7595-701e-499e-a4ae-fbde2a2de9cc', 0.29750617213272484), ('prey', '290295e6-56dc-4f22-8cf0-34d8f3eac506', 0.29750617213272484), ('prey', 'f9c3072d-c0ff-4b53-a320-335490fefa8a', 0.29750617213272484), ('prey', '60f0b9f9-baee-455e-9f50-f5828a3be8d5', 0.29750617213272484), ('prey', 'f0c4edfc-bb7b-4a39-b0e9-d6e4654ed633', 0.29750617213272484), ('prey', 'b6c72815-d51b-493a-a5d5-6012e94b27f0', 0.29750617213272484), ('prey', 'a3435421-65bf-4512-b9c2-9d9821cbefd8', 0.29750617213272484), ('prey', '7f890eb7-8ab4-4886-b524-d9cd2d690e96', 0.29750617213272484), ('prey', '7a54089a-8d52-4c44-99f3-c9b89907077e', 0.29750617213272484), ('prey', '904d1e22-8d58-4b35-9ec9-4750269e00bd', 0.29750617213272484), ('prey', '72a8b7c2-fe36-4c98-86b9-bef3b101dc68', 0.29750617213272484), ('prey', 'e6405fa8-d320-4b99-a294-5829951da535', 0.29750617213272484), ('prey', '98b508fa-0f70-4ec7-bbb3-128f4a9d9c3a', 0.29750617213272484), ('prey', '21da8f37-d09c-4ddf-a563-2bd8cb177758', 0.29750617213272484), ('prey', '1d80cade-aea4-4265-8553-77dfdfda6cac', 0.29750617213272484), ('prey', '6f7ca1d8-a3a7-44ce-958a-0a96499364c3', 0.29750617213272484), ('prey', '4f63cbbf-8923-449b-971b-478375dc082c', 0.29750617213272484), ('prey', '0984309a-2881-432b-a74a-eb30600a043a', 0.29750617213272484), ('prey', '8ce07dc5-dd0e-44f1-b951-3cff72f04642', 0.29750617213272484), ('prey', '9828f760-9dc0-4442-b4a4-86333f1c9ff8', 0.29750617213272484), ('prey', '753241b0-d7e3-4037-a715-9606c593991e', 0.29750617213272484), ('prey', '1da57045-9a8f-40ae-bd05-dd3e99cd223f', 0.29750617213272484), ('prey', '2818b7c6-73e4-4f00-9a01-459f7bf28d09', 0.29750617213272484), ('prey', '190e54aa-3bb7-4433-89c7-eea444035197', 0.29750617213272484), ('prey', 'f880764e-1447-4a6a-a927-0a0b1c0b919e', 0.29750617213272484), ('prey', '0855622a-9700-43f1-b2d5-636243310b3d', 0.29750617213272484), ('prey', '2cddc9d6-de27-4696-811c-7c68c3c8e261', 0.29750617213272484), ('prey', 'b3ecf6da-6b56-4a45-a158-a20ef58eb4d6', 0.29750617213272484), ('prey', '387afa4e-9fb4-44e7-8531-115802491ed1', 0.29750617213272484), ('prey', '355f71be-f93b-4817-9437-d5583e2efc6d', 0.29750617213272484), ('prey', '2e88e0f9-85df-4fb4-b70b-8e9d22a57c30', 0.29750617213272484), ('prey', '92d09e51-63fd-4025-afee-3c39fae7dc88', 0.29750617213272484), ('prey', 'c51107eb-b048-438b-96fe-476402bf897b', 0.29750617213272484), ('prey', 'f0414d6d-aad4-4ef1-9072-495bcc25e225', 0.29750617213272484), ('prey', '9da2db45-5d7a-451c-b70c-dba82feea932', 0.29750617213272484), ('prey', '22cc501a-55e7-4f86-af80-240fa62a64be', 0.29750617213272484), ('prey', '25a4499d-4266-4fdc-bf7d-281efba5602d', 0.29750617213272484), ('prey', '4c3cc1b9-d81e-4670-a12a-7b6864f60378', 0.29750617213272484), ('prey', '7d24f038-a2cb-4a2b-98b6-9c35e36a4317', 0.29750617213272484), ('prey', 'd292d6c0-7756-45ab-9d92-db4b55e4b294', 0.29750617213272484), ('prey', 'c9fb0891-c420-43b8-a2c8-c1c551d2619b', 0.29750617213272484), ('prey', '93068cf4-8cf0-47e1-96c7-88b1a73044c8', 0.29750617213272484), ('prey', '7753b307-0dc3-450d-b197-b6e79bbe945d', 0.29750617213272484), ('prey', '939e646f-ceb5-41b6-a41f-2285f6617165', 0.29750617213272484), ('prey', '522e0d46-b08c-42f8-b708-dec56ba68098', 0.29750617213272484), ('prey', 'dec39e96-ed6b-45c3-9589-b7b79b7cb53a', 0.29750617213272484), ('prey', '96e7aacb-57d3-4daa-b1f1-35785fc12438', 0.29750617213272484), ('prey', '4930944a-8119-41dd-9a27-3c72db5f5f1d', 0.29750617213272484), ('prey', '3f9f7ac2-aff8-406f-aa67-77b9b494218e', 0.29750617213272484), ('prey', '014fe9a9-5167-4b70-b1f1-b02d8fefb60b', 0.29750617213272484), ('prey', '0f17b178-74fa-4d8e-bdd2-ef9568e9fc55', 0.29750617213272484), ('prey', '985a842a-cf87-47be-878a-7b08786386cb', 0.29750617213272484), ('prey', '7cd27cb5-2d82-40cb-812c-c54329d453fc', 0.29750617213272484), ('prey', '4a3d5650-aea0-4be0-8d6b-fb8dcc039794', 0.29750617213272484), ('prey', '48424365-d5e6-4101-b012-5042b4bf9c22', 0.29750617213272484), ('prey', 'c1e9c368-56df-4439-a03f-5c9c32f5419d', 0.29750617213272484), ('prey', '76920aee-9762-48cc-90f1-a83ffd446673', 0.29750617213272484), ('prey', '4f8ace54-da84-419f-8fb0-554a5a98a25c', 0.29750617213272484), ('prey', '9d554418-a582-4e84-932f-16e8ec038ca2', 0.29750617213272484), ('prey', '47cc16b4-5b1a-4715-aab1-36f28ba403cc', 0.29750617213272484), ('prey', '666b33a7-8848-4a9c-8059-9a4802b11c31', 0.29750617213272484), ('prey', 'cb145bb9-7174-4bac-ac42-c45d73707880', 0.29750617213272484), ('prey', '3837c546-5ff3-4cd2-b3db-51477e1d0fc4', 0.29750617213272484), ('prey', '4655d3c3-37ba-4b12-a135-363f6d21d527', 0.29750617213272484), ('prey', '684e5dd4-6067-4a24-9c7d-31a4cfeb22c6', 0.29750617213272484), ('prey', '649e1c8c-f4b6-4976-ac08-05bf0655c467', 0.29750617213272484), ('prey', '395186db-6cfb-49ae-addd-9aa765263351', 0.29750617213272484), ('prey', 'd4b94702-8b98-4ff4-9ded-5245b4dd65d0', 0.29750617213272484), ('prey', 'b728a443-90d7-4f89-a052-2110989eaec1', 0.29750617213272484), ('prey', '79ce2aaa-c1fd-48f1-981c-f3c0d05c4705', 0.29750617213272484), ('prey', '49275f10-26ed-4b12-935c-82695c5f3a59', 0.29750617213272484), ('prey', 'c541c3c6-616d-4db1-a662-cede8e6377a3', 0.29750617213272484), ('prey', 'ecf6d68f-82c9-41fa-8474-28fbe4a884fa', 0.29750617213272484), ('prey', '84a025a6-606e-4cf3-928e-833e9031f096', 0.29750617213272484), ('prey', '7c864141-5fb5-4830-9e0d-ba516bffb126', 0.29750617213272484), ('prey', '384d0d1b-93a7-4160-8392-b64ecd97b996', 0.29750617213272484), ('prey', '34bb14b4-15c4-41cf-ad07-8086f5c16432', 0.29750617213272484), ('prey', '87c2c893-d073-4f84-aaff-cd223532b6e6', 0.29750617213272484), ('prey', 'e2c617df-c03d-451a-9d0b-c638edafc23b', 0.29750617213272484), ('prey', '18489edb-3644-44df-a81e-770eeb8c3bf7', 0.29750617213272484), ('prey', '596d6e64-f3a6-4352-8936-ca9993c37ee2', 0.29750617213272484), ('prey', 'd25956b3-111b-41c5-bc13-c21cf0ddc867', 0.29750617213272484), ('prey', 'dbf01995-74b3-4864-81e7-1de1644ba166', 0.29750617213272484), ('prey', '56a2a481-03b2-4731-b492-9f0ac35b4677', 0.29750617213272484), ('prey', '2f1ff3a6-64fe-4888-9dd0-235540f07777', 0.29750617213272484), ('prey', 'e33a56db-044c-4a7b-902e-9d4f78fb3e9c', 0.29750617213272484), ('prey', '839e92f1-52a6-4ca2-8e47-b7b7f67f1b18', 0.29750617213272484), ('prey', '56e0ad20-6749-4397-99b6-1788bc926aa2', 0.29750617213272484), ('prey', 'e559a651-9687-4ccb-883c-e8a9ea948d69', 0.29750617213272484), ('prey', '235ebc35-7cc9-48ba-80ea-d27b04895c61', 0.29750617213272484), ('prey', '9d204499-c947-43c9-98f7-e32378dfc7a5', 0.29750617213272484), ('prey', '1fd4dc8e-f7b3-417e-b753-b533837458e9', 0.29750617213272484), ('prey', 'fa797ba5-53ec-4b54-959b-a15f78f18025', 0.29750617213272484), ('prey', '88cd65d2-2eb3-49ee-a86d-35c993b696c8', 0.29750617213272484), ('prey', '6c3809fe-98fb-4b11-8521-7e3feb7f20b8', 0.29750617213272484), ('prey', 'cf5d1667-185a-44c3-9737-960e7d5fb12a', 0.29750617213272484), ('prey', '1eb5cd65-3bbe-4f91-944b-7aa9fa19c25e', 0.29750617213272484), ('prey', '2e2bbde7-b36f-4397-bfa1-2a87cec14364', 0.29750617213272484), ('prey', '4b2c74d5-9d42-4a15-b385-9957b5c9c3e9', 0.29750617213272484), ('prey', '1e0c8615-11e5-457b-b820-f923e49581dd', 0.29750617213272484), ('prey', '4d0e3de9-9f9d-494a-920a-303ffff96907', 0.29750617213272484), ('prey', 'd194e77e-3b92-4e80-acc2-9f4c44e3475b', 0.29750617213272484), ('prey', '54f69c42-f1a4-4509-84e1-da04e9b49eca', 0.29750617213272484), ('prey', '5d47bd90-a338-492d-8c9d-e42812b321ef', 0.29750617213272484), ('prey', '2b4e7e68-2ede-413e-9588-3f2e4283d5fd', 0.29750617213272484), ('prey', '7d88a27d-a6b1-4401-9a0c-8da9c16b33b9', 0.29750617213272484), ('prey', '5b2ece9d-5e81-44ff-a80e-3b5262ba0b3a', 0.29750617213272484), ('prey', '84821372-cc40-4534-9ed4-dfef6971bf10', 0.29750617213272484), ('prey', 'b59e810a-469c-40ef-aa96-34b5b7e725af', 0.29750617213272484), ('prey', '5f616a33-eb17-4f84-8cfe-49f2f2bdbab1', 0.29750617213272484), ('prey', '432a082f-c7a6-4d0e-b14e-5a768380da0e', 0.29750617213272484), ('prey', '82511091-46d7-43d5-adaf-4266ecb2a84d', 0.29750617213272484), ('prey', '60e8a054-6e7b-4e7b-81dc-af415de9d6d7', 0.29750617213272484), ('prey', '8ccda6a9-946b-417c-96ff-baaec00b91bc', 0.29750617213272484), ('prey', '22b36563-9a9a-40d1-8b43-e391607e8d79', 0.29750617213272484), ('prey', '84720c72-36ad-4c73-9570-663cd03c12c2', 0.29750617213272484), ('prey', 'a480f2b3-daf1-4de7-9305-fa0df6a52ef4', 0.29750617213272484), ('prey', '5c8fb0eb-c8f8-442a-abb2-ccc60e934c8c', 0.29750617213272484), ('prey', '4ecd600e-b16b-4c91-95db-75a48c376622', 0.29750617213272484), ('prey', 'af62f688-3b77-4ac6-b980-09d292f7e018', 0.29750617213272484), ('prey', 'e5d73060-194e-44d3-bbe5-08140e8d9d47', 0.29750617213272484), ('prey', '535d37ad-624b-42dc-a657-6f626e751852', 0.29750617213272484), ('prey', '2d1fd27d-c4fd-4a8b-a667-53d093e436d6', 0.29750617213272484), ('prey', 'fb21c2a9-15c4-4993-968b-fd5c2ce59ab7', 0.29750617213272484), ('prey', '52cac67c-f80b-4355-af09-1e6f05995944', 0.29750617213272484), ('prey', '36d5a1ff-3324-4016-ad84-65236eac6dd7', 0.29750617213272484), ('prey', '7f1cea02-e519-41ce-a25f-afc4c9d26f0c', 0.29750617213272484), ('prey', '24fa7b7d-f20f-4a69-82b3-7b70f6e429c4', 0.29750617213272484), ('prey', 'f58a9a6c-a4c2-4ba4-9b5c-a9efa06a002e', 0.29750617213272484), ('prey', 'ae9532f2-3eaf-4cc3-9cc9-b1cb08793945', 0.29750617213272484), ('prey', '614f0ef4-9845-42e8-9813-c0f59a2e33ff', 0.29750617213272484), ('prey', 'b341720e-35f2-4f92-84a0-1a8ad1adc3b2', 0.29750617213272484), ('prey', 'd8a3ee57-fa13-428b-9c08-8718d072ae3e', 0.29750617213272484), ('prey', '70163a5c-f6fc-4eab-8f89-44b187ce8bd4', 0.29750617213272484), ('prey', 'ab59635c-fb17-49be-aae7-aeb89b418040', 0.29750617213272484), ('prey', '8bf2f066-9f98-4a04-a133-9b16b7fa323d', 0.29750617213272484), ('prey', '3e496f42-0517-468b-b2c1-f83bcc4a33e7', 0.29750617213272484), ('prey', 'c1968b98-8d60-4fc6-aa3e-ccbc7ecad08d', 0.29750617213272484), ('prey', '458bdc30-a53c-4869-874b-1a244d37227e', 0.29750617213272484), ('prey', '7a5b636f-ee28-4a00-9cde-59eea887b2b3', 0.29750617213272484), ('prey', 'c39b55f4-3269-464f-85a0-083bd994884d', 0.29750617213272484), ('prey', '09b0fe57-8b8c-4a6b-aaed-6c3d4509bc5b', 0.29750617213272484), ('prey', '11f39023-469b-4c5a-b3a0-ae78baee198e', 0.29750617213272484), ('prey', '8987386a-f413-4cdd-bff7-3c576fd421c1', 0.29750617213272484), ('prey', '30adc5aa-2e76-4e78-b19d-d26a6c2aec83', 0.29750617213272484), ('prey', 'c01821b0-1db0-4cd5-bf57-b3c05860b691', 0.29750617213272484), ('prey', '3388910c-1143-4260-a565-43ee7e6a8eda', 0.29750617213272484), ('prey', '80606f70-e064-4045-a542-0b65a49f0fd5', 0.29750617213272484), ('prey', 'b4e33ef5-0c0f-4f05-8233-3ad1b8343c8c', 0.29750617213272484), ('prey', '82b16e4d-8c8e-4c0f-a1bf-8edc2ad8242b', 0.29750617213272484), ('prey', 'a2001649-5264-4aaa-a858-e41732254a57', 0.29750617213272484), ('prey', 'da8b3e07-f026-4fc3-885c-8e45534a5bfa', 0.29750617213272484), ('prey', '21a1c4c2-6760-4b76-a297-fa6dc6221a33', 0.29750617213272484), ('prey', 'bdd922b6-573f-4271-9d1a-6ef8772e93f8', 0.29750617213272484), ('prey', '2751b988-e5c2-4c5d-baa3-6e73a5531879', 0.29750617213272484), ('prey', '45b92f3b-45e0-4bcb-98d6-5ada46dacb9c', 0.29750617213272484), ('prey', 'c8758cf9-5350-4fa0-9599-0eb13ff665f2', 0.29750617213272484), ('prey', '4537a7da-7513-4239-b6a6-94233c4a6b15', 0.29750617213272484), ('prey', 'e21111b7-82fb-4e15-b275-193199d5ca98', 0.29750617213272484), ('prey', 'f16dc94e-fd2d-447a-88b8-dca760babc5c', 0.29750617213272484), ('prey', '5e59a9c3-0f4a-4109-963b-555fbaea2f6d', 0.29750617213272484), ('prey', 'aedc15e9-b12e-427f-9dda-45ea5678747c', 0.29750617213272484), ('prey', '8b8bc905-d2a6-465a-b637-415db7a8166e', 0.29750617213272484), ('prey', '651dcf5e-ab82-4d4e-ac64-39fd21d9e490', 0.29750617213272484), ('prey', 'eb48f292-e407-4b01-9ccc-8ab797e02cb8', 0.29750617213272484), ('prey', 'f7082237-6cae-44cd-ad9a-4d3106d57324', 0.29750617213272484), ('prey', 'fb2b9e50-0dd6-4301-97e8-038930eaa11f', 0.29750617213272484), ('prey', '41da43f7-eff5-4160-8c8d-884b38fcde1a', 0.29750617213272484), ('prey', '6880c649-e61d-4933-83d2-df8c99a58c2e', 0.29750617213272484), ('prey', 'cf973094-916a-4475-a22a-3a4bbe111f68', 0.29750617213272484), ('prey', 'a02ac2aa-1eed-4c76-8bf9-ff515d6ef6e2', 0.29750617213272484), ('prey', 'd9a9ef8c-9716-475b-9c4b-9a827a5f9149', 0.29750617213272484), ('prey', '25fd7b3f-442c-41b3-b909-e6506120d9fe', 0.29750617213272484), ('prey', '6bbea42c-0d75-4fd6-9e45-d791dd89fa7e', 0.29750617213272484), ('prey', '77430078-afdd-44bc-8aef-47f861670897', 0.29750617213272484), ('prey', '1f44718a-b6bd-4ee3-87e2-97d6341fe9a5', 0.29750617213272484), ('prey', 'f15cef33-2c47-4b64-8466-1dc52d93d481', 0.29750617213272484), ('prey', 'd48dac8f-4f17-4634-bd4e-ef09993f39ef', 0.29750617213272484), ('prey', '4e16b197-38fa-4619-83b4-33abc1ff362a', 0.29750617213272484), ('prey', '5b14358a-1918-4ad9-b406-f32f690a8b34', 0.29750617213272484), ('prey', 'ce26efe7-651e-4ce0-ac6e-7e5b46d872b7', 0.29750617213272484), ('prey', '21f3a2b6-67fe-45a9-a8dc-c5ef21c13270', 0.29750617213272484), ('prey', '8d11fc21-c05b-4f94-8745-fa47ab5053e0', 0.29750617213272484), ('prey', 'a8df8bc7-3b15-4177-b589-3f70df102561', 0.29750617213272484), ('prey', 'd384d54b-a8d8-4fc2-ad07-029ea39db399', 0.29750617213272484), ('prey', 'e2e68c05-95ce-4ed8-b1a7-abb93f9ae5d4', 0.29750617213272484), ('prey', 'c200c526-f4eb-4ea1-966c-a6d4ecefbde4', 0.29750617213272484), ('prey', 'c6ac1aae-4a05-4729-b3f8-93462e8d2b1a', 0.29750617213272484), ('prey', 'eec8de97-94b8-484e-9dfe-4f46572e6022', 0.29750617213272484), ('prey', 'f9ef9066-c1ec-48c8-9a3f-0dec451eff11', 0.29750617213272484), ('prey', '71303202-4132-4c96-a3c7-e1c143ab8c0e', 0.29750617213272484), ('prey', '25cdefb0-88bf-442d-82b9-3808f18f06b1', 0.29750617213272484), ('prey', '0e1e9d94-dc2f-4814-9957-95d6ddfa1589', 0.29750617213272484), ('prey', '6c54c720-38ca-4021-baf7-0768492b701d', 0.29750617213272484), ('prey', '7093e68b-d371-42d0-ab59-02b4ed82949f', 0.29750617213272484), ('prey', '476374e3-5ba0-447e-91c8-7eb512c51802', 0.29750617213272484), ('prey', '1608156d-46e9-4334-9a05-537a788cab5c', 0.29750617213272484), ('prey', 'a8bfd968-6246-4e17-9ece-deb743d6a951', 0.29750617213272484), ('prey', '75b2d182-7658-4bf4-8ac9-e443d4db0ebb', 0.29750617213272484), ('prey', '8f21602e-d94a-40e3-bcea-dff75c185137', 0.29750617213272484), ('prey', '49a47235-a6a3-412a-93a9-174e21467cd8', 0.29750617213272484), ('prey', '0301a156-d92c-4d47-bdec-0995b9875ed8', 0.29750617213272484), ('prey', 'ad16328a-03ee-4d07-9869-fe28d42e6ad7', 0.29750617213272484), ('prey', '9b3d60ba-dfd6-4aad-8d3e-ba0ab2d259ee', 0.29750617213272484), ('prey', '3ebf3f83-c633-4f5a-8f23-d7df8ea94667', 0.29750617213272484), ('prey', '824bbcc2-bc13-4962-94aa-73e3f4d79d54', 0.29750617213272484), ('prey', '34ec6d94-0ef5-43a3-9e80-d5b6368a40ff', 0.29750617213272484), ('prey', 'f32cac2b-8dac-4fe1-b724-a8b457c7862e', 0.29750617213272484), ('prey', 'a4c09565-cd5d-4585-9bd8-62671d5a580d', 0.29750617213272484), ('prey', '872c208a-23db-4ee5-88b5-276b08491bd1', 0.29750617213272484), ('prey', 'a69bdbf6-922b-4675-bc45-c484bb005b33', 0.29750617213272484), ('prey', '34269f81-7090-40ad-8c31-97090c111322', 0.29750617213272484), ('prey', 'fe471e20-f2e3-4743-986c-d0a326c5f937', 0.29750617213272484), ('prey', 'dff68308-ecce-413a-b845-d8a193375a40', 0.29750617213272484), ('prey', '3fbe38b8-fdd3-41a6-a91c-476b55df8b0d', 0.29750617213272484), ('prey', '4843e11e-bcaa-4f83-b592-1aa8fd13278a', 0.29750617213272484), ('prey', '53bf88f5-63df-4d6d-b380-2413d45cf43b', 0.29750617213272484), ('prey', '5bc07b4e-8a35-43e6-963b-52bf8db097ae', 0.29750617213272484), ('prey', 'f12d7000-8a45-4de2-a526-82a3e14d5a13', 0.29750617213272484), ('prey', '84ae4fd7-299c-4fbd-ae12-9972dfd0d70f', 0.29750617213272484), ('prey', 'b4802ec2-b8a9-46ec-85a5-6d5b199839a9', 0.29750617213272484), ('prey', '465e1fcc-a2ff-4176-b8c0-e78134e324b2', 0.29750617213272484), ('prey', 'ee60a91d-a117-4375-81fb-f3debe66fbd4', 0.29750617213272484), ('prey', 'd00b6d10-61f2-4b65-bbf8-502af00fbf04', 0.29750617213272484), ('prey', 'a6b8da71-947a-45a4-9a69-78cdab7f9a10', 0.29750617213272484), ('prey', '6f668a88-a6d0-4239-bd5a-f6b6d89cc1c3', 0.29750617213272484), ('prey', 'f54311dc-e83e-4562-90cb-ec931141e745', 0.29750617213272484), ('prey', '291e7e5e-ccfb-4501-b016-cd89b25073c5', 0.29750617213272484), ('prey', 'eda4b52d-8568-4fda-ba31-212ffba12690', 0.29750617213272484), ('prey', '70fb6b23-3a0e-4db6-bafd-715044c4be7a', 0.29750617213272484), ('prey', '15170caa-e421-4221-9d40-31777b63ed2a', 0.29750617213272484), ('prey', '808a998f-2168-4765-9d21-5546805a8023', 0.29750617213272484), ('prey', '65b29adb-8c41-4f7d-846d-b42e678fdf0d', 0.29750617213272484), ('prey', '7b4d6ec2-1b57-4dbe-8fc5-fad77be1e694', 0.29750617213272484), ('prey', 'e9931499-f053-4243-a00a-8b2336fe2993', 0.29750617213272484), ('prey', '94ba93c8-005b-464e-9201-70a9f79aa8bf', 0.29750617213272484), ('prey', '7026338b-4358-4983-9a5a-45edfcf761f7', 0.29750617213272484), ('prey', 'c7b1d128-d535-412f-b936-c87ce7d5b0b7', 0.29750617213272484), ('prey', '110037bb-c4ab-419f-9361-2a1731d2e7b6', 0.29750617213272484), ('prey', 'ce4faade-314d-458a-8c30-9754babb3ac5', 0.29750617213272484), ('prey', 'e9b5c0f5-023d-45a9-b940-e521607e70b7', 0.29750617213272484), ('prey', 'f9964ff3-7158-4b7c-9733-c4ff89f8b01a', 0.29750617213272484), ('prey', 'd0d41e50-ff19-467d-9367-4496457fa4a9', 0.29750617213272484), ('prey', 'b2ec086e-4386-479f-b61e-84d95da11218', 0.29750617213272484), ('prey', '6b9e7065-11b7-4247-a2c9-7eb80830d1d0', 0.29750617213272484), ('prey', 'e649cb86-bcae-44a2-b0e3-b7337c2142a1', 0.29750617213272484), ('prey', 'f9a50acc-7f28-41fa-a7f0-188bc1ae4210', 0.29750617213272484), ('prey', '1341ed3a-1b2d-4c3a-a226-41bfca2a9057', 0.29750617213272484), ('prey', 'b7edbdc5-e3c9-4bba-b0d6-a68b0e3ab899', 0.29750617213272484), ('prey', 'eae3ee3a-e908-4de8-9484-7dbfd98d3a62', 0.29750617213272484), ('prey', 'f64f03f6-a5f7-4403-b7d1-e5fa321f92d1', 0.29750617213272484), ('prey', '6fb02d65-24e5-4193-8806-53d503bec1f0', 0.29750617213272484), ('prey', '950de66b-0dd0-455d-95f6-9bfba64b04ae', 0.29750617213272484), ('prey', 'd44ae566-2686-4844-b71e-04f0d3bc811b', 0.29750617213272484), ('prey', '55d45fb3-9d56-4eb7-bb5e-e400a2c03123', 0.29750617213272484), ('prey', '68e4d203-32eb-4446-ab30-244f42678068', 0.29750617213272484), ('prey', '54024843-3e66-411a-abcb-7df14c971432', 0.29750617213272484), ('prey', 'e0e38359-1c68-4b55-a64f-a48d2d8d2dee', 0.29750617213272484), ('prey', 'aa5bdddf-b2d9-454e-bd32-7680436e7284', 0.29750617213272484), ('prey', '4116af7e-d7e0-40a0-a3c8-63dd0c926da4', 0.29750617213272484), ('prey', 'c2317596-cda8-4ae6-be0a-e897d066ca82', 0.29750617213272484), ('prey', '86062755-10e2-42d1-a12f-d2f51e07f260', 0.29750617213272484), ('prey', '5cb1172b-2afa-4a9c-9bc4-61c3be8d7293', 0.29750617213272484), ('prey', 'b1b86c9f-6d4a-4e63-bf69-2af241f7120f', 0.29750617213272484), ('prey', '1a913347-83cb-4b81-8955-d0c0e58e48dc', 0.29750617213272484), ('prey', 'c482639a-d915-4cb2-9213-50893d4b6e03', 0.29750617213272484), ('prey', '90129706-4062-40f4-ac25-c989e8f839dc', 0.29750617213272484), ('prey', '4cbdf15f-e2c5-440d-ae60-65355f83d9c2', 0.29750617213272484), ('prey', '60642c0f-c1bc-4d4e-9661-433e093561bb', 0.29750617213272484), ('prey', 'd60061df-3e0f-426b-9771-23e3cd913691', 0.29750617213272484), ('prey', '22ee376b-ba88-4b1f-a91a-64f9b51ba59e', 0.29750617213272484), ('prey', 'bd34a514-8514-4027-ab4e-6ec643cf6227', 0.29750617213272484), ('prey', '45ad8100-2cc3-4615-9de0-0dbe05599078', 0.29750617213272484), ('prey', 'dbd452f6-c26c-46ba-bcd5-f9762d4d57e2', 0.29750617213272484), ('prey', 'eaf64308-78e4-4796-8154-c916e85f6285', 0.29750617213272484), ('prey', 'fd75bf93-d3c7-456a-9d4a-54d7514e7514', 0.29750617213272484), ('prey', 'ba54ac72-f877-4e8f-be3d-016766ab25cb', 0.29750617213272484), ('prey', '743addf4-68af-4838-98d5-86a062a6703c', 0.29750617213272484), ('prey', 'ccc8c934-ee8d-4974-9c6b-83136ca20034', 0.29750617213272484)]\n"
     ]
    },
    {
     "name": "stdout",
     "output_type": "stream",
     "text": [
      "Error processing image C:\\Users\\MR962RZ\\OneDrive - EY\\Documents\\EY\\NUIG Masters\\DCU modules\\Mechanics of Search\\Assignment 2\\static\\images\\3f9f7ac2-aff8-406f-aa67-77b9b494218e.jpg: OpenCV(4.9.0) D:\\a\\opencv-python\\opencv-python\\opencv\\modules\\imgproc\\src\\color.cpp:196: error: (-215:Assertion failed) !_src.empty() in function 'cv::cvtColor'\n",
      "\n",
      "Error processing image C:\\Users\\MR962RZ\\OneDrive - EY\\Documents\\EY\\NUIG Masters\\DCU modules\\Mechanics of Search\\Assignment 2\\static\\images\\4ecd600e-b16b-4c91-95db-75a48c376622.jpg: OpenCV(4.9.0) D:\\a\\opencv-python\\opencv-python\\opencv\\modules\\imgproc\\src\\color.cpp:196: error: (-215:Assertion failed) !_src.empty() in function 'cv::cvtColor'\n",
      "\n"
     ]
    },
    {
     "name": "stderr",
     "output_type": "stream",
     "text": [
      "127.0.0.1 - - [03/May/2024 15:56:41] \"POST /search-results HTTP/1.1\" 200 -\n",
      "127.0.0.1 - - [03/May/2024 15:56:41] \"GET /static/vendor/bootstrap/css/bootstrap.min.css HTTP/1.1\" 304 -\n",
      "127.0.0.1 - - [03/May/2024 15:56:41] \"GET /static/vendor/bootstrap-icons/bootstrap-icons.css HTTP/1.1\" 304 -\n",
      "127.0.0.1 - - [03/May/2024 15:56:41] \"GET /static/vendor/swiper/swiper-bundle.min.css HTTP/1.1\" 304 -\n",
      "127.0.0.1 - - [03/May/2024 15:56:41] \"GET /static/vendor/glightbox/css/glightbox.min.css HTTP/1.1\" 304 -\n",
      "127.0.0.1 - - [03/May/2024 15:56:41] \"GET /static/css/main.css HTTP/1.1\" 304 -\n",
      "127.0.0.1 - - [03/May/2024 15:56:41] \"GET /static/vendor/aos/aos.css HTTP/1.1\" 304 -\n",
      "127.0.0.1 - - [03/May/2024 15:56:41] \"GET /static/vendor/bootstrap/js/bootstrap.bundle.min.js HTTP/1.1\" 304 -\n",
      "127.0.0.1 - - [03/May/2024 15:56:41] \"GET /static/vendor/swiper/swiper-bundle.min.js HTTP/1.1\" 304 -\n",
      "127.0.0.1 - - [03/May/2024 15:56:41] \"GET /static/vendor/glightbox/js/glightbox.min.js HTTP/1.1\" 304 -\n",
      "127.0.0.1 - - [03/May/2024 15:56:41] \"GET /static/vendor/aos/aos.js HTTP/1.1\" 304 -\n",
      "127.0.0.1 - - [03/May/2024 15:56:41] \"GET /static/js/main.js HTTP/1.1\" 304 -\n",
      "127.0.0.1 - - [03/May/2024 15:59:42] \"GET /gallery-single.html HTTP/1.1\" 404 -\n"
     ]
    },
    {
     "name": "stdout",
     "output_type": "stream",
     "text": [
      "Results: [('bird', 'a6b8da71-947a-45a4-9a69-78cdab7f9a10', 0.050425684553674875), ('bird', '6f668a88-a6d0-4239-bd5a-f6b6d89cc1c3', 0.02547840820577644), ('bird', 'f54311dc-e83e-4562-90cb-ec931141e745', 0.02547840820577644), ('prey', 'a6b8da71-947a-45a4-9a69-78cdab7f9a10', 0.29750617213272484), ('prey', '6f668a88-a6d0-4239-bd5a-f6b6d89cc1c3', 0.29750617213272484), ('prey', 'f54311dc-e83e-4562-90cb-ec931141e745', 0.29750617213272484), ('ireland', 'a6b8da71-947a-45a4-9a69-78cdab7f9a10', 1.5265863814452612), ('ireland', '6f668a88-a6d0-4239-bd5a-f6b6d89cc1c3', 1.5265863814452612), ('ireland', 'f54311dc-e83e-4562-90cb-ec931141e745', 1.5265863814452612)]\n"
     ]
    },
    {
     "name": "stderr",
     "output_type": "stream",
     "text": [
      "127.0.0.1 - - [03/May/2024 16:00:47] \"POST /search-results HTTP/1.1\" 200 -\n",
      "127.0.0.1 - - [03/May/2024 16:00:47] \"GET /static/vendor/bootstrap/css/bootstrap.min.css HTTP/1.1\" 304 -\n",
      "127.0.0.1 - - [03/May/2024 16:00:47] \"GET /static/vendor/bootstrap-icons/bootstrap-icons.css HTTP/1.1\" 304 -\n",
      "127.0.0.1 - - [03/May/2024 16:00:47] \"GET /static/vendor/swiper/swiper-bundle.min.css HTTP/1.1\" 304 -\n",
      "127.0.0.1 - - [03/May/2024 16:00:47] \"GET /static/vendor/glightbox/css/glightbox.min.css HTTP/1.1\" 304 -\n",
      "127.0.0.1 - - [03/May/2024 16:00:47] \"GET /static/vendor/aos/aos.css HTTP/1.1\" 304 -\n",
      "127.0.0.1 - - [03/May/2024 16:00:47] \"GET /static/css/main.css HTTP/1.1\" 304 -\n",
      "127.0.0.1 - - [03/May/2024 16:00:47] \"GET /static/vendor/bootstrap/js/bootstrap.bundle.min.js HTTP/1.1\" 304 -\n",
      "127.0.0.1 - - [03/May/2024 16:00:47] \"GET /static/vendor/swiper/swiper-bundle.min.js HTTP/1.1\" 304 -\n",
      "127.0.0.1 - - [03/May/2024 16:00:47] \"GET /static/vendor/glightbox/js/glightbox.min.js HTTP/1.1\" 304 -\n",
      "127.0.0.1 - - [03/May/2024 16:00:47] \"GET /static/vendor/aos/aos.js HTTP/1.1\" 304 -\n",
      "127.0.0.1 - - [03/May/2024 16:00:47] \"GET /static/js/main.js HTTP/1.1\" 304 -\n"
     ]
    }
   ],
   "source": [
    "\n",
    "app = Flask(__name__)\n",
    "\n",
    "@app.route('/')\n",
    "def home():\n",
    "    return render_template('combined.html', countries = unique_countries)\n",
    "\n",
    "@app.route('/search-results', methods=['POST'])\n",
    "def handle_form():\n",
    "    if request.method == 'POST':\n",
    "        # Get the search keywords and selected country from the form\n",
    "        search_keywords = request.form.get('message')\n",
    "        selected_country = request.form.get('country')\n",
    "\n",
    "        # Combine search keywords and selected country if both are provided\n",
    "        if search_keywords and selected_country:\n",
    "            search_query = f\"{search_keywords} {selected_country}\"\n",
    "        else:\n",
    "            # Use either search keywords or selected country if one of them is provided\n",
    "            search_query = search_keywords or selected_country\n",
    "\n",
    "        # Preprocess the combined search query\n",
    "        processed_query = preprocess(search_query)\n",
    "\n",
    "        # Filter images based on the processed query\n",
    "        file_path = get_static_path('results.txt')\n",
    "        image_metadata = filter_images_by_query(processed_query, selected_country, inverted_index, file_path, run_name=search_query)\n",
    "        num_images = len(image_metadata)\n",
    "\n",
    "        # Render the gallery page with the filtered images\n",
    "        return render_template('combined.html', country=search_query, num_images=num_images, images=image_metadata, countries=unique_countries, show_dynamic=True)\n",
    "    else:\n",
    "        # If the method is not POST, render the gallery page without the dynamic content\n",
    "        return render_template('combined.html', show_dynamic=False, countries=unique_countries)\n",
    "\n",
    "\n",
    "app.run(debug=True, port=8080, use_reloader=False)\n"
   ]
  }
 ],
 "metadata": {
  "kernelspec": {
   "display_name": "Python 3 (ipykernel)",
   "language": "python",
   "name": "python3"
  },
  "language_info": {
   "codemirror_mode": {
    "name": "ipython",
    "version": 3
   },
   "file_extension": ".py",
   "mimetype": "text/x-python",
   "name": "python",
   "nbconvert_exporter": "python",
   "pygments_lexer": "ipython3",
   "version": "3.10.9"
  }
 },
 "nbformat": 4,
 "nbformat_minor": 5
}
